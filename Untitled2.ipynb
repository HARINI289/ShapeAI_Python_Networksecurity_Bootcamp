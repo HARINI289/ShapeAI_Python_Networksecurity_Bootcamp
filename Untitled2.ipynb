{
  "nbformat": 4,
  "nbformat_minor": 0,
  "metadata": {
    "colab": {
      "name": "Untitled2.ipynb",
      "provenance": [],
      "collapsed_sections": [],
      "authorship_tag": "ABX9TyOJ3KDLFnIiafchHaTvn5Uc",
      "include_colab_link": true
    },
    "kernelspec": {
      "name": "python3",
      "display_name": "Python 3"
    },
    "language_info": {
      "name": "python"
    }
  },
  "cells": [
    {
      "cell_type": "markdown",
      "metadata": {
        "id": "view-in-github",
        "colab_type": "text"
      },
      "source": [
        "<a href=\"https://colab.research.google.com/github/HARINI289/ShapeAI_Python_Networksecurity_Bootcamp/blob/main/Untitled2.ipynb\" target=\"_parent\"><img src=\"https://colab.research.google.com/assets/colab-badge.svg\" alt=\"Open In Colab\"/></a>"
      ]
    },
    {
      "cell_type": "code",
      "metadata": {
        "colab": {
          "base_uri": "https://localhost:8080/"
        },
        "id": "_X7koWHh38vS",
        "outputId": "4f964f93-b691-44c8-a64f-5328bc88ceb9"
      },
      "source": [
        "# Python 3 code to demonstrate the \n",
        "# working of MD5 (string - hexadecimal)\n",
        "  \n",
        "import hashlib\n",
        "  \n",
        "# initializing string\n",
        "str2hash = \"harini\"\n",
        "  \n",
        "# encoding harini using encode()\n",
        "# then sending to md5()\n",
        "result = hashlib.md5(str2hash.encode())\n",
        "  \n",
        "# printing the equivalent hexadecimal value.\n",
        "print(\"The hexadecimal equivalent of hash is : \", end =\"\")\n",
        "print(result.hexdigest())\n",
        "\n",
        "# printing the equivalent byte value.\n",
        "print(\"The byte equivalent of hash is : \", end =\"\")\n",
        "print(result.digest())\n",
        "\n",
        "\n",
        "#printing the clone  of the hash object.\n",
        "print(\"The clone of hash object is : \",end=\"\")\n",
        "print(result.copy())"
      ],
      "execution_count": 2,
      "outputs": [
        {
          "output_type": "stream",
          "text": [
            "The hexadecimal equivalent of hash is : b2f7d6e27829d7da30ab470e11a67a6e\n",
            "The byte equivalent of hash is : b'\\xb2\\xf7\\xd6\\xe2x)\\xd7\\xda0\\xabG\\x0e\\x11\\xa6zn'\n",
            "The clone of hash object is : <md5 HASH object @ 0x7f94033cb450>\n"
          ],
          "name": "stdout"
        }
      ]
    }
  ]
}